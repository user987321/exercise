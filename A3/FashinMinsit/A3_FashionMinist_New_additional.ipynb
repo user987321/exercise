{
 "cells": [
  {
   "cell_type": "markdown",
   "metadata": {
    "id": "pGZvruDgKm4X"
   },
   "source": [
    "# Classifying Images of Clothing Using TensorFlow\n",
    "\n",
    "*How to train a Deep Learning model to classify images of clothing using Convolutional Neural Networks in TensorFlow.*"
   ]
  },
  {
   "cell_type": "code",
   "execution_count": null,
   "metadata": {},
   "outputs": [],
   "source": [
    "https://www.youtube.com/watch?v=Y7Ld4H8sDUg---- good video of fashion minist\n",
    "    "
   ]
  },
  {
   "cell_type": "markdown",
   "metadata": {
    "id": "MyGJMdN2cTn7"
   },
   "source": [
    "Deep Learning is a subfield of machine learning that uses multi-layered neural networks to extracts patterns from data. My objective within this project is to present how to apply Deep Learning concepts to an image classification problem. For this, we are going to train a Convolutional Neural Network (CNN) to classify a dataset of clothing using the TensorFlow library in Python.\n",
    "\n",
    "In the last few years, Convolutional Neural Networks has been achieving superhuman performance on some complex visual tasks. They power image search services, self-driving cars, automatic video classification systems, and more<sup>1</sup>."
   ]
  },
  {
   "cell_type": "markdown",
   "metadata": {
    "id": "ffLI_-lkcooY"
   },
   "source": [
    "## Understanding and Importing the Dataset"
   ]
  },
  {
   "cell_type": "markdown",
   "metadata": {
    "id": "erphTZ6SKvJv"
   },
   "source": [
    "We are going to use the Fashion MNIST dataset, which contains 70,000 greyscale images of clothing in 10 categories, like shirts, dresses, and sandals. The images represent individual clothing with 28 x 28 pixels of resolution. You can see some examples of them in the picture below.\n",
    "\n",
    "<table>\n",
    "  <tr><td>\n",
    "    <img src=\"https://raw.githubusercontent.com/hugoplm/computer-vision/main/img/Fashion_MNIST_Samples_by%20Zalando.png\" height=\"600\">\n",
    "  </td></tr>\n",
    "  <tr><td align=\"center\">\n",
    "    <a href=\"https://github.com/zalandoresearch/fashion-mnist/blob/master/doc/img/fashion-mnist-sprite.png\">Fashion-MNIST Samples</a> by Zalando.<br/>&nbsp;\n",
    "  </td></tr>\n",
    "</table>\n",
    "\n",
    "\n",
    "Each image has a single class in the range [0, 9]. We can see in the table below the classes in the dataset.\n",
    "\n",
    "<table>\n",
    "  <tr>\n",
    "    <th>Label</th>\n",
    "    <th>Class</th>\n",
    "  </tr>\n",
    "  <tr>\n",
    "    <td>0</td>\n",
    "    <td>T-shirt/top</td>\n",
    "  </tr>\n",
    "  <tr>\n",
    "    <td>1</td>\n",
    "    <td>Trouser</td>\n",
    "  </tr>\n",
    "    <tr>\n",
    "    <td>2</td>\n",
    "    <td>Pullover</td>\n",
    "  </tr>\n",
    "    <tr>\n",
    "    <td>3</td>\n",
    "    <td>Dress</td>\n",
    "  </tr>\n",
    "    <tr>\n",
    "    <td>4</td>\n",
    "    <td>Coat</td>\n",
    "  </tr>\n",
    "    <tr>\n",
    "    <td>5</td>\n",
    "    <td>Sandal</td>\n",
    "  </tr>\n",
    "    <tr>\n",
    "    <td>6</td>\n",
    "    <td>Shirt</td>\n",
    "  </tr>\n",
    "    <tr>\n",
    "    <td>7</td>\n",
    "    <td>Sneaker</td>\n",
    "  </tr>\n",
    "    <tr>\n",
    "    <td>8</td>\n",
    "    <td>Bag</td>\n",
    "  </tr>\n",
    "    <tr>\n",
    "    <td>9</td>\n",
    "    <td>Ankle boot</td>\n",
    "  </tr>\n",
    "</table>\n",
    "\n"
   ]
  },
  {
   "cell_type": "code",
   "execution_count": 2,
   "metadata": {
    "id": "BhqD7TXcP-Ck"
   },
   "outputs": [],
   "source": [
    "# importing the libraries\n",
    "import tensorflow as tf\n",
    "from tensorflow import keras\n",
    "import matplotlib.pyplot as plt\n",
    "import numpy as np\n",
    "import pandas as pd\n",
    "from sklearn.metrics import classification_report"
   ]
  },
  {
   "cell_type": "markdown",
   "metadata": {
    "id": "jCRrG2ygOaXW"
   },
   "source": [
    "The dataset can be loaded directly from Keras, using the Datasets API. It is split in train (60,000 samples) and test (10,000 samples)."
   ]
  },
  {
   "cell_type": "code",
   "execution_count": 3,
   "metadata": {
    "colab": {
     "base_uri": "https://localhost:8080/"
    },
    "id": "JHDho6r_KdEP",
    "outputId": "27ab5eb1-58bc-4976-d4ee-347297091f42"
   },
   "outputs": [
    {
     "name": "stdout",
     "output_type": "stream",
     "text": [
      "Downloading data from https://storage.googleapis.com/tensorflow/tf-keras-datasets/train-labels-idx1-ubyte.gz\n",
      "29515/29515 [==============================] - 0s 0us/step\n",
      "Downloading data from https://storage.googleapis.com/tensorflow/tf-keras-datasets/train-images-idx3-ubyte.gz\n",
      "26421880/26421880 [==============================] - 2s 0us/step\n",
      "Downloading data from https://storage.googleapis.com/tensorflow/tf-keras-datasets/t10k-labels-idx1-ubyte.gz\n",
      "5148/5148 [==============================] - 0s 0s/step\n",
      "Downloading data from https://storage.googleapis.com/tensorflow/tf-keras-datasets/t10k-images-idx3-ubyte.gz\n",
      "4422102/4422102 [==============================] - 0s 0us/step\n"
     ]
    }
   ],
   "source": [
    "(X_train_raw, y_train_raw), (X_test_raw, y_test_raw) = keras.datasets.fashion_mnist.load_data()"
   ]
  },
  {
   "cell_type": "markdown",
   "metadata": {
    "id": "7PqdW8lSadqm"
   },
   "source": [
    "We can check the shape of the datasets. As expected, we have 60,000 samples in the training dataset and 10,000 in the test dataset, each of them with 28 x 28 pixels (X_train) and 1 class (y_train)."
   ]
  },
  {
   "cell_type": "code",
   "execution_count": 4,
   "metadata": {
    "colab": {
     "base_uri": "https://localhost:8080/"
    },
    "id": "Z2aXKyV8PYSQ",
    "outputId": "d53a3f88-d726-4aa0-9ca8-eb247816bcf3"
   },
   "outputs": [
    {
     "name": "stdout",
     "output_type": "stream",
     "text": [
      "X_train:  (60000, 28, 28)\n",
      "y_train:  (60000,)\n",
      "X_test:   (10000, 28, 28)\n",
      "y_test:   (10000,)\n"
     ]
    }
   ],
   "source": [
    "print(\"X_train: \", X_train_raw.shape)\n",
    "print(\"y_train: \", y_train_raw.shape)\n",
    "print(\"X_test:  \", X_test_raw.shape)\n",
    "print(\"y_test:  \", y_test_raw.shape)"
   ]
  },
  {
   "cell_type": "markdown",
   "metadata": {
    "id": "tpZYrvYqe85s"
   },
   "source": [
    "In the class datasets, we have only the label for each class. We can define a new variable with the names for each label, as presented in the table above. This will be used when plotting some images with the corresponding class."
   ]
  },
  {
   "cell_type": "code",
   "execution_count": 6,
   "metadata": {
    "id": "ecq_RUWVe2Vw"
   },
   "outputs": [],
   "source": [
    "class_names = ['T-shirt/top', 'Trouser', 'Pullover', 'Dress', 'Coat', 'Sandal', 'Shirt', 'Sneaker', 'Bag', 'Ankle boot']"
   ]
  },
  {
   "cell_type": "markdown",
   "metadata": {
    "id": "pxeDvHw9aces"
   },
   "source": [
    "## Exploring the Dataset"
   ]
  },
  {
   "cell_type": "markdown",
   "metadata": {
    "id": "FUvmYqjMaYUF"
   },
   "source": [
    "An image is just a matrix of numbers, in our problem a 28 x 28 matrix. Each value is in the range [0, 255], which defines the color and intensity of each pixel.\n",
    "\n",
    "Here we can see the first 5 rows from the first sample of our training dataset."
   ]
  },
  {
   "cell_type": "code",
   "execution_count": 7,
   "metadata": {
    "colab": {
     "base_uri": "https://localhost:8080/"
    },
    "id": "eMDFSMKqaW8o",
    "outputId": "f453458a-ae8d-4887-cfb5-b28a5a07c8ad"
   },
   "outputs": [
    {
     "data": {
      "text/plain": [
       "array([[  0,   0,   0,   0,   0,   0,   0,   0,   0,   0,   0,   0,   0,\n",
       "          0,   0,   0,   0,   0,   0,   0,   0,   0,   0,   0,   0,   0,\n",
       "          0,   0],\n",
       "       [  0,   0,   0,   0,   0,   0,   0,   0,   0,   0,   0,   0,   0,\n",
       "          0,   0,   0,   0,   0,   0,   0,   0,   0,   0,   0,   0,   0,\n",
       "          0,   0],\n",
       "       [  0,   0,   0,   0,   0,   0,   0,   0,   0,   0,   0,   0,   0,\n",
       "          0,   0,   0,   0,   0,   0,   0,   0,   0,   0,   0,   0,   0,\n",
       "          0,   0],\n",
       "       [  0,   0,   0,   0,   0,   0,   0,   0,   0,   0,   0,   0,   1,\n",
       "          0,   0,  13,  73,   0,   0,   1,   4,   0,   0,   0,   0,   1,\n",
       "          1,   0],\n",
       "       [  0,   0,   0,   0,   0,   0,   0,   0,   0,   0,   0,   0,   3,\n",
       "          0,  36, 136, 127,  62,  54,   0,   0,   0,   1,   3,   4,   0,\n",
       "          0,   3]], dtype=uint8)"
      ]
     },
     "execution_count": 7,
     "metadata": {},
     "output_type": "execute_result"
    }
   ],
   "source": [
    "X_train_raw[0][:5]"
   ]
  },
  {
   "cell_type": "markdown",
   "metadata": {
    "id": "unzzM6nRdduG"
   },
   "source": [
    "Now, let's plot this image using the matplotlib library. Since our image is in greyscale, we can pass a binary argument for the color map."
   ]
  },
  {
   "cell_type": "code",
   "execution_count": 8,
   "metadata": {
    "colab": {
     "base_uri": "https://localhost:8080/",
     "height": 265
    },
    "id": "CX-29iBTdoQq",
    "outputId": "b7fd587a-c485-422d-c440-887bcfb93b50"
   },
   "outputs": [
    {
     "data": {
      "image/png": "[encoded data removed]",
      "text/plain": [
       "<Figure size 432x288 with 2 Axes>"
      ]
     },
     "metadata": {
      "needs_background": "light"
     },
     "output_type": "display_data"
    }
   ],
   "source": [
    "plt.imshow(X_train_raw[0], cmap=plt.cm.binary)\n",
    "plt.colorbar()\n",
    "plt.show()"
   ]
  },
  {
   "cell_type": "markdown",
   "metadata": {
    "id": "wixAZ3NfgBmO"
   },
   "source": [
    "Then, we can confirm which class our image represents."
   ]
  },
  {
   "cell_type": "code",
   "execution_count": 9,
   "metadata": {
    "colab": {
     "base_uri": "https://localhost:8080/"
    },
    "id": "Jcs-BkzB_IYQ",
    "outputId": "192d6512-f185-404b-c3aa-043a4cbd958d"
   },
   "outputs": [
    {
     "name": "stdout",
     "output_type": "stream",
     "text": [
      "Class label:  9\n",
      "Class name:   Ankle boot\n"
     ]
    }
   ],
   "source": [
    "print(\"Class label: \", y_train_raw[0])\n",
    "print(\"Class name:  \", class_names[y_train_raw[0]])"
   ]
  },
  {
   "cell_type": "markdown",
   "metadata": {
    "id": "6dRAxSzdlXs2"
   },
   "source": [
    "We can display a few examples from our train dataset with the respective class. Plotting the first 24 samples, it is possible to see at least one example of each class."
   ]
  },
  {
   "cell_type": "code",
   "execution_count": 10,
   "metadata": {
    "colab": {
     "base_uri": "https://localhost:8080/",
     "height": 390
    },
    "id": "s9XSWrepey_z",
    "outputId": "0739fe18-6514-4763-ef8b-8e4f3113bbec"
   },
   "outputs": [
    {
     "data": {
      "image/png": "[encoded data removed]",
      "text/plain": [
       "<Figure size 1152x432 with 24 Axes>"
      ]
     },
     "metadata": {},
     "output_type": "display_data"
    }
   ],
   "source": [
    "plt.figure(figsize=(16,6))\n",
    "for i in range(24):\n",
    "    plt.subplot(3,8,i+1)\n",
    "    plt.xticks([])\n",
    "    plt.yticks([])\n",
    "    plt.grid(False)\n",
    "    plt.imshow(X_train_raw[i], cmap=plt.cm.binary)\n",
    "    plt.xlabel(class_names[y_train_raw[i]])\n",
    "plt.show()"
   ]
  },
  {
   "cell_type": "markdown",
   "metadata": {
    "id": "dvU6vu26ezSr"
   },
   "source": [
    "## Preprocessing the Data"
   ]
  },
  {
   "cell_type": "markdown",
   "metadata": {
    "id": "gM01r6Umezhu"
   },
   "source": [
    "**Normalizing**\n",
    "\n",
    "The value of each pixel in the image, an integer in the range [0, 255], needs to be normalized for the model to work properly. We can create a function that divides each value by 255.0. When applying this function to our dataset, we will get normalized values in the range [0,1]. Furthermore, we can transform it to 'float32' to reduce memory usage."
   ]
  },
  {
   "cell_type": "code",
   "execution_count": 11,
   "metadata": {
    "id": "vd_lvefUIOgI"
   },
   "outputs": [],
   "source": [
    "def normalize(X):\n",
    "  X = (X / 255.0).astype('float32')\n",
    "  return X"
   ]
  },
  {
   "cell_type": "code",
   "execution_count": 12,
   "metadata": {
    "id": "DorqJkJceznn"
   },
   "outputs": [],
   "source": [
    "X_train = normalize(X_train_raw)\n",
    "X_test = normalize(X_test_raw)"
   ]
  },
  {
   "cell_type": "markdown",
   "metadata": {
    "id": "zMT4RoM3QPzo"
   },
   "source": [
    "**Reshaping the Image**\n",
    "\n",
    "The Convolutional Neural Network expects 4 dimensions as input: number of samples (60,000), pixels (28 x 28), and color channel. Since we are working with greyscale images there is only a single channel. However, as we have seen before, the shape of our X_train dataset is (6000, 28, 28) and we need (6000, 28, 28, 1) as input. Thus, we need to reshape our datasets."
   ]
  },
  {
   "cell_type": "code",
   "execution_count": 13,
   "metadata": {
    "colab": {
     "base_uri": "https://localhost:8080/"
    },
    "id": "_qDtM5XlnmNO",
    "outputId": "e3337e10-487f-4b27-ddbd-083b3c76249b"
   },
   "outputs": [
    {
     "name": "stdout",
     "output_type": "stream",
     "text": [
      "X_train:  (60000, 28, 28, 1)\n",
      "X_test:   (10000, 28, 28, 1)\n"
     ]
    }
   ],
   "source": [
    "# redimensionar as imagens\n",
    "X_train = X_train.reshape((X_train.shape[0], X_train.shape[1], X_train.shape[2], 1))\n",
    "X_test = X_test.reshape((X_test.shape[0], X_test.shape[1], X_test.shape[2], 1))\n",
    "\n",
    "print(\"X_train: \", X_train.shape)\n",
    "print(\"X_test:  \", X_test.shape)"
   ]
  },
  {
   "cell_type": "markdown",
   "metadata": {
    "id": "QMMpB5NRl-j2"
   },
   "source": [
    "**One-Hot Encoding**\n",
    "\n",
    "Our class data has labels in the range [0, 9], which is called *Integer Encoding*.\n"
   ]
  },
  {
   "cell_type": "code",
   "execution_count": 14,
   "metadata": {
    "colab": {
     "base_uri": "https://localhost:8080/"
    },
    "id": "hzItjV4NnFOU",
    "outputId": "ee658e15-5a37-4e36-b0fb-5e1b87cc68d7"
   },
   "outputs": [
    {
     "data": {
      "text/plain": [
       "array([0, 1, 2, 3, 4, 5, 6, 7, 8, 9], dtype=uint8)"
      ]
     },
     "execution_count": 14,
     "metadata": {},
     "output_type": "execute_result"
    }
   ],
   "source": [
    "np.unique(y_train_raw)"
   ]
  },
  {
   "cell_type": "markdown",
   "metadata": {
    "id": "m5DgkaRInez1"
   },
   "source": [
    "However, there is no ordinal relationship between the labels and the corresponding class. \n",
    "\n",
    "In this case, using the integer encoding allows the model to assume a natural ordering between categories, which may result in poor performance or unexpected results from the Deep Learning model. To solve this problem, we can use a one-hot encode, which creates a new binary variable for each unique integer value<sup>2</sup>."
   ]
  },
  {
   "cell_type": "code",
   "execution_count": 15,
   "metadata": {
    "id": "5q1_oDSNnepB"
   },
   "outputs": [],
   "source": [
    "y_train = keras.utils.to_categorical(y_train_raw,10)\n",
    "y_test = keras.utils.to_categorical(y_test_raw,10)"
   ]
  },
  {
   "cell_type": "markdown",
   "metadata": {
    "id": "jhSeL2LVQE9L"
   },
   "source": [
    "Now, let's check how are our label data. Each label changed from a single value to a vector with value \"1\" in the respective position."
   ]
  },
  {
   "cell_type": "code",
   "execution_count": 16,
   "metadata": {
    "colab": {
     "base_uri": "https://localhost:8080/"
    },
    "id": "s5BgF_nePiWD",
    "outputId": "1aaa9a15-7999-4362-fd07-cacbd89dd464"
   },
   "outputs": [
    {
     "name": "stdout",
     "output_type": "stream",
     "text": [
      "First Label Before One-Hot Encoding:  9\n",
      "First Label After One-Hot Encoding:   [0. 0. 0. 0. 0. 0. 0. 0. 0. 1.]\n"
     ]
    }
   ],
   "source": [
    "print(\"First Label Before One-Hot Encoding: \", y_train_raw[0])\n",
    "print(\"First Label After One-Hot Encoding:  \", y_train[0])"
   ]
  },
  {
   "cell_type": "markdown",
   "metadata": {
    "id": "PnkzCw7hQ02O"
   },
   "source": [
    "## Creating the Model"
   ]
  },
  {
   "cell_type": "markdown",
   "metadata": {
    "id": "z0RQuL73S97H"
   },
   "source": [
    "**Building the Layers**\n",
    "\n",
    "The first step in the model creation is to define the layers of our network. The CNN has at least one convolutional layer and also includes other types of layers, such as pooling layers and fully connected layers (dense).  For this project, we are going to use a typical CNN architecture represented in the image below.\n",
    "\n",
    "<table>\n",
    "  <tr><td>\n",
    "    <img src=\"https://raw.githubusercontent.com/hugoplm/computer-vision/main/img/Typical_CNN%20Architecture_by%20Géron_Aurélien(2019).png\" height=\"150\">\n",
    "  </td></tr>\n",
    "  <tr><td align=\"center\">\n",
    "   <br>Typical CNN Architecture by Géron, Aurélien (2019).<br/>\n",
    "  </td></tr>\n",
    "</table>\n",
    "\n",
    "As we have in the image, we will include a convolutional and a pooling layers, then another convolutional and pooling layers. Then, we are going to add a flatten layer to transform our 2d-array image in a 1d-array and add some dense layers. We can add some dropout layers to reduce overfitting. For the last layer, we add a dense layer with the number of classes from our problem (10) and a softmax activation, which creates the probability distribution for each class.\n",
    "\n"
   ]
  },
  {
   "cell_type": "code",
   "execution_count": 17,
   "metadata": {
    "id": "_I-g8ZwiiufQ"
   },
   "outputs": [],
   "source": [
    "model = keras.models.Sequential([\n",
    "  keras.layers.Conv2D(filters=64, kernel_size=3, activation='relu', \n",
    "                      padding='same', input_shape=[28, 28, 1]),\n",
    "  keras.layers.MaxPool2D(pool_size=2),\n",
    "  keras.layers.Conv2D(filters=128, kernel_size=3, activation='relu', \n",
    "                      padding='same'),\n",
    "  keras.layers.MaxPool2D(pool_size=2),\n",
    "  keras.layers.Flatten(),\n",
    "  keras.layers.Dense(units=128, activation='relu'),\n",
    "  keras.layers.Dropout(0.25),\n",
    "  keras.layers.Dense(units=64, activation='relu'),\n",
    "  keras.layers.Dropout(0.25),\n",
    "  keras.layers.Dense(units=10, activation='softmax'),\n",
    "])"
   ]
  },
  {
   "cell_type": "markdown",
   "metadata": {
    "id": "1b3oyYnBQ07_"
   },
   "source": [
    "**Compiling the Model**\n",
    "\n",
    "The next step is to compile the model. Here we pass the optimizer, which adjusts the weights to minimize the loss, the loss function, which measures the disparity between the true and predicted values, and the metrics, a function used to measure the performance of the model."
   ]
  },
  {
   "cell_type": "code",
   "execution_count": 18,
   "metadata": {
    "id": "CWR0byqiSbZ1"
   },
   "outputs": [],
   "source": [
    "model.compile(optimizer='adam', loss='categorical_crossentropy', metrics=['accuracy'])"
   ]
  },
  {
   "cell_type": "markdown",
   "metadata": {
    "id": "F17_mK--Q0_U"
   },
   "source": [
    "**Training the Model**\n",
    "\n",
    "The last step is to train our model. Here we need to pass the input data, the target data and the number of epochs, which defines the number of full iterations of the training dataset. We will also pass a parameter to split our data in training (70%) and validation (30%) and a parameter to define the batch_size, which is the number of training examples in each pass.\n",
    "\n",
    "We will save the results of our training in the variable *model_history*.\n",
    "\n",
    "*Obs.: if you are running this notebook, I recommend you change the runtime type to GPU. It will train the model really faster than using the CPU (No hardware accelerator).*"
   ]
  },
  {
   "cell_type": "code",
   "execution_count": 19,
   "metadata": {
    "colab": {
     "base_uri": "https://localhost:8080/"
    },
    "id": "VvtKmOQQS20w",
    "outputId": "37c8ee98-eb0c-4839-ad08-0bcc1aa13f2b"
   },
   "outputs": [
    {
     "name": "stdout",
     "output_type": "stream",
     "text": [
      "Epoch 1/10\n",
      "840/840 [==============================] - 44s 52ms/step - loss: 0.5588 - accuracy: 0.8020 - val_loss: 0.3378 - val_accuracy: 0.8794\n",
      "Epoch 2/10\n",
      "840/840 [==============================] - 44s 52ms/step - loss: 0.3393 - accuracy: 0.8810 - val_loss: 0.2798 - val_accuracy: 0.8974\n",
      "Epoch 3/10\n",
      "840/840 [==============================] - 44s 52ms/step - loss: 0.2838 - accuracy: 0.8984 - val_loss: 0.2538 - val_accuracy: 0.9052\n",
      "Epoch 4/10\n",
      "840/840 [==============================] - 43s 52ms/step - loss: 0.2502 - accuracy: 0.9109 - val_loss: 0.2492 - val_accuracy: 0.9081\n",
      "Epoch 5/10\n",
      "840/840 [==============================] - 43s 52ms/step - loss: 0.2221 - accuracy: 0.9194 - val_loss: 0.2379 - val_accuracy: 0.9161\n",
      "Epoch 6/10\n",
      "840/840 [==============================] - 43s 52ms/step - loss: 0.2032 - accuracy: 0.9260 - val_loss: 0.2277 - val_accuracy: 0.9193\n",
      "Epoch 7/10\n",
      "840/840 [==============================] - 43s 51ms/step - loss: 0.1793 - accuracy: 0.9342 - val_loss: 0.2406 - val_accuracy: 0.9184\n",
      "Epoch 8/10\n",
      "840/840 [==============================] - 43s 52ms/step - loss: 0.1586 - accuracy: 0.9424 - val_loss: 0.2577 - val_accuracy: 0.9125\n",
      "Epoch 9/10\n",
      "840/840 [==============================] - 43s 51ms/step - loss: 0.1494 - accuracy: 0.9445 - val_loss: 0.2325 - val_accuracy: 0.9253\n",
      "Epoch 10/10\n",
      "840/840 [==============================] - 43s 51ms/step - loss: 0.1328 - accuracy: 0.9516 - val_loss: 0.2518 - val_accuracy: 0.9253\n"
     ]
    }
   ],
   "source": [
    "model_history = model.fit(X_train, y_train, batch_size=50, epochs=10, validation_split=0.3)"
   ]
  },
  {
   "cell_type": "markdown",
   "metadata": {
    "id": "StSK5vbIjdoR"
   },
   "source": [
    "**Evaluating the Loss**\n",
    "\n",
    "The fit method returns a history object with the results for each epoch. We can plot a chart with the loss and accuracy for the training and validation datasets. From this chart, it is possible to see how the loss goes down and the accuracy goes up over the epochs. This chart is also used to identify evidence of overfitting and underfitting. For our model, it doesn't seem we have strong evidence of these problems. Thus, let's move on and make some predictions with our test dataset."
   ]
  },
  {
   "cell_type": "code",
   "execution_count": 20,
   "metadata": {
    "colab": {
     "base_uri": "https://localhost:8080/",
     "height": 265
    },
    "id": "EKna5rS7jOtI",
    "outputId": "dfccdb56-cf05-4123-ccf8-8f6cf1638ce2"
   },
   "outputs": [
    {
     "data": {
      "image/png": "[encoded data removed]",
      "text/plain": [
       "<Figure size 432x288 with 1 Axes>"
      ]
     },
     "metadata": {
      "needs_background": "light"
     },
     "output_type": "display_data"
    }
   ],
   "source": [
    "pd.DataFrame(model_history.history).plot()\n",
    "plt.show()"
   ]
  },
  {
   "cell_type": "markdown",
   "metadata": {
    "id": "B0Dov5oRQ1B1"
   },
   "source": [
    "## Making Predictions and Evaluating the Results"
   ]
  },
  {
   "cell_type": "markdown",
   "metadata": {
    "id": "V_bgmGunK8KF"
   },
   "source": [
    "**Evaluating the Accuracy in the Test Dataset**\n",
    "\n",
    "Now, let's see how the model performs with our test dataset."
   ]
  },
  {
   "cell_type": "code",
   "execution_count": 21,
   "metadata": {
    "colab": {
     "base_uri": "https://localhost:8080/"
    },
    "id": "cUhp-vV9Q0dh",
    "outputId": "2b4e02f5-a587-4a3f-e8e3-7332d49cca00"
   },
   "outputs": [
    {
     "name": "stdout",
     "output_type": "stream",
     "text": [
      "313/313 [==============================] - 3s 8ms/step - loss: 0.2780 - accuracy: 0.9176\n"
     ]
    }
   ],
   "source": [
    "model.evaluate(X_test, y_test);\n"
   ]
  },
  {
   "cell_type": "markdown",
   "metadata": {
    "id": "8FVRXFzLP_zE"
   },
   "source": [
    "The accuracy on the training dataset is smaller than the accuracy on the test and validation datasets. However, this is still a good result with 91,55% of accuracy."
   ]
  },
  {
   "cell_type": "markdown",
   "metadata": {
    "id": "rf5jIPs1Lx1-"
   },
   "source": [
    "**Making Predictions**\n",
    "\n",
    "We can use our model to predict a class for each example in our test database and store the results in the variable predictions."
   ]
  },
  {
   "cell_type": "code",
   "execution_count": 22,
   "metadata": {
    "id": "5ZlqUN8OQ0gL"
   },
   "outputs": [
    {
     "name": "stdout",
     "output_type": "stream",
     "text": [
      "313/313 [==============================] - 3s 8ms/step\n"
     ]
    }
   ],
   "source": [
    "predictions = model.predict(X_test)"
   ]
  },
  {
   "cell_type": "markdown",
   "metadata": {
    "id": "rpGsV0hPRY3F"
   },
   "source": [
    "Now, let's plot a few images from our test dataset with the true and the predicted labels. When the model predicts right, the text will be displayed in blue, if the prediction is wrong, it will be displayed in red. Also, it will be displayed the calculated probability for the predicted class."
   ]
  },
  {
   "cell_type": "code",
   "execution_count": 23,
   "metadata": {
    "id": "1y-hwz-6sjT3"
   },
   "outputs": [],
   "source": [
    "def plot_img_label(img, pred_class, pred_percentage, true_class):\n",
    "\n",
    "  plt.imshow(img,cmap=plt.cm.binary)\n",
    "\n",
    "  if pred_class == true_class:\n",
    "    color = 'blue'\n",
    "  else:\n",
    "    color = 'red'\n",
    "\n",
    "  plt.title(label= f\"Predicted: {pred_class} - {pred_percentage:2.1f}%\\nActual: {true_class}\", \n",
    "            fontdict={'color': color})"
   ]
  },
  {
   "cell_type": "code",
   "execution_count": 24,
   "metadata": {
    "colab": {
     "base_uri": "https://localhost:8080/",
     "height": 399
    },
    "id": "q8d4kiEotR9G",
    "outputId": "555c72e6-ceae-4da5-bcee-ab62aa0a24d0"
   },
   "outputs": [
    {
     "data": {
      "image/png": "[encoded data removed]",
      "text/plain": [
       "<Figure size 1008x720 with 20 Axes>"
      ]
     },
     "metadata": {},
     "output_type": "display_data"
    }
   ],
   "source": [
    "plt.figure(figsize=(14,10))\n",
    "for i in range(20):\n",
    "    \n",
    "    plt.subplot(5,5,i+1)\n",
    "    plt.xticks([])\n",
    "    plt.yticks([])\n",
    "    plt.grid(False)\n",
    "\n",
    "    i = i * 5\n",
    "\n",
    "    img = X_test[i].reshape(28,28)\n",
    "    pred_class = class_names[np.argmax(predictions[i])]\n",
    "    pred_percentage = np.max(predictions[i])*100\n",
    "    true_class = class_names[np.argmax(y_test[i])]\n",
    "    \n",
    "    plot_img_label(img, pred_class, pred_percentage, true_class)\n",
    "\n",
    "plt.tight_layout()\n",
    "plt.show()"
   ]
  },
  {
   "cell_type": "markdown",
   "metadata": {
    "id": "gKrfuhy0SmMm"
   },
   "source": [
    "From these 20 examples, we can see that our model made wrong predictions for one coat and one shirt. However, it is not feasible to analyze the predictions for 10,000 examples using this plot. Thus, let's plot a crosstab to analyze what our model predicted right and wrong for each class."
   ]
  },
  {
   "cell_type": "markdown",
   "metadata": {
    "id": "7090LyzXcP33"
   },
   "source": [
    "**Crosstab**\n",
    "\n",
    "First, let's create our crosstab. Here we will have the columns and index with our labels [0 - 9]. After creating it, we can rename the columns and indexes to display the name of the classes instead of the labels."
   ]
  },
  {
   "cell_type": "code",
   "execution_count": 25,
   "metadata": {
    "id": "R9-CVdzjxLQ-"
   },
   "outputs": [],
   "source": [
    "predicted_label = np.argmax(predictions,axis = 1)\n",
    "true_label = np.argmax(y_test, axis = 1)"
   ]
  },
  {
   "cell_type": "code",
   "execution_count": 26,
   "metadata": {
    "id": "wLADWb_ZxwHG"
   },
   "outputs": [],
   "source": [
    "crosstab = pd.crosstab(true_label, predicted_label, rownames=[\"True\"], colnames=[\"Predicted\"], margins=True)"
   ]
  },
  {
   "cell_type": "code",
   "execution_count": 27,
   "metadata": {
    "id": "ampf4s-QYFFD"
   },
   "outputs": [],
   "source": [
    "classes = {}\n",
    "for item in zip(range(10), class_names):\n",
    "  classes[item[0]] = item[1]"
   ]
  },
  {
   "cell_type": "code",
   "execution_count": 28,
   "metadata": {
    "colab": {
     "base_uri": "https://localhost:8080/",
     "height": 458
    },
    "id": "N1K2xNdBavlM",
    "outputId": "5223a37d-64e2-4703-cd7b-237b12c06212"
   },
   "outputs": [
    {
     "data": {
      "text/html": [
       "<div>\n",
       "<style scoped>\n",
       "    .dataframe tbody tr th:only-of-type {\n",
       "        vertical-align: middle;\n",
       "    }\n",
       "\n",
       "    .dataframe tbody tr th {\n",
       "        vertical-align: top;\n",
       "    }\n",
       "\n",
       "    .dataframe thead th {\n",
       "        text-align: right;\n",
       "    }\n",
       "</style>\n",
       "<table border=\"1\" class=\"dataframe\">\n",
       "  <thead>\n",
       "    <tr style=\"text-align: right;\">\n",
       "      <th>Predicted</th>\n",
       "      <th>T-shirt/top</th>\n",
       "      <th>Trouser</th>\n",
       "      <th>Pullover</th>\n",
       "      <th>Dress</th>\n",
       "      <th>Coat</th>\n",
       "      <th>Sandal</th>\n",
       "      <th>Shirt</th>\n",
       "      <th>Sneaker</th>\n",
       "      <th>Bag</th>\n",
       "      <th>Ankle boot</th>\n",
       "      <th>All</th>\n",
       "    </tr>\n",
       "    <tr>\n",
       "      <th>True</th>\n",
       "      <th></th>\n",
       "      <th></th>\n",
       "      <th></th>\n",
       "      <th></th>\n",
       "      <th></th>\n",
       "      <th></th>\n",
       "      <th></th>\n",
       "      <th></th>\n",
       "      <th></th>\n",
       "      <th></th>\n",
       "      <th></th>\n",
       "    </tr>\n",
       "  </thead>\n",
       "  <tbody>\n",
       "    <tr>\n",
       "      <th>T-shirt/top</th>\n",
       "      <td>869</td>\n",
       "      <td>0</td>\n",
       "      <td>17</td>\n",
       "      <td>14</td>\n",
       "      <td>3</td>\n",
       "      <td>0</td>\n",
       "      <td>91</td>\n",
       "      <td>0</td>\n",
       "      <td>6</td>\n",
       "      <td>0</td>\n",
       "      <td>1000</td>\n",
       "    </tr>\n",
       "    <tr>\n",
       "      <th>Trouser</th>\n",
       "      <td>0</td>\n",
       "      <td>984</td>\n",
       "      <td>0</td>\n",
       "      <td>11</td>\n",
       "      <td>0</td>\n",
       "      <td>0</td>\n",
       "      <td>4</td>\n",
       "      <td>0</td>\n",
       "      <td>1</td>\n",
       "      <td>0</td>\n",
       "      <td>1000</td>\n",
       "    </tr>\n",
       "    <tr>\n",
       "      <th>Pullover</th>\n",
       "      <td>11</td>\n",
       "      <td>1</td>\n",
       "      <td>883</td>\n",
       "      <td>9</td>\n",
       "      <td>31</td>\n",
       "      <td>0</td>\n",
       "      <td>65</td>\n",
       "      <td>0</td>\n",
       "      <td>0</td>\n",
       "      <td>0</td>\n",
       "      <td>1000</td>\n",
       "    </tr>\n",
       "    <tr>\n",
       "      <th>Dress</th>\n",
       "      <td>13</td>\n",
       "      <td>3</td>\n",
       "      <td>11</td>\n",
       "      <td>917</td>\n",
       "      <td>19</td>\n",
       "      <td>0</td>\n",
       "      <td>34</td>\n",
       "      <td>0</td>\n",
       "      <td>3</td>\n",
       "      <td>0</td>\n",
       "      <td>1000</td>\n",
       "    </tr>\n",
       "    <tr>\n",
       "      <th>Coat</th>\n",
       "      <td>2</td>\n",
       "      <td>0</td>\n",
       "      <td>83</td>\n",
       "      <td>20</td>\n",
       "      <td>836</td>\n",
       "      <td>0</td>\n",
       "      <td>59</td>\n",
       "      <td>0</td>\n",
       "      <td>0</td>\n",
       "      <td>0</td>\n",
       "      <td>1000</td>\n",
       "    </tr>\n",
       "    <tr>\n",
       "      <th>Sandal</th>\n",
       "      <td>0</td>\n",
       "      <td>0</td>\n",
       "      <td>0</td>\n",
       "      <td>0</td>\n",
       "      <td>0</td>\n",
       "      <td>984</td>\n",
       "      <td>0</td>\n",
       "      <td>12</td>\n",
       "      <td>0</td>\n",
       "      <td>4</td>\n",
       "      <td>1000</td>\n",
       "    </tr>\n",
       "    <tr>\n",
       "      <th>Shirt</th>\n",
       "      <td>101</td>\n",
       "      <td>0</td>\n",
       "      <td>53</td>\n",
       "      <td>25</td>\n",
       "      <td>44</td>\n",
       "      <td>0</td>\n",
       "      <td>771</td>\n",
       "      <td>0</td>\n",
       "      <td>6</td>\n",
       "      <td>0</td>\n",
       "      <td>1000</td>\n",
       "    </tr>\n",
       "    <tr>\n",
       "      <th>Sneaker</th>\n",
       "      <td>0</td>\n",
       "      <td>0</td>\n",
       "      <td>0</td>\n",
       "      <td>0</td>\n",
       "      <td>0</td>\n",
       "      <td>5</td>\n",
       "      <td>0</td>\n",
       "      <td>976</td>\n",
       "      <td>0</td>\n",
       "      <td>19</td>\n",
       "      <td>1000</td>\n",
       "    </tr>\n",
       "    <tr>\n",
       "      <th>Bag</th>\n",
       "      <td>4</td>\n",
       "      <td>0</td>\n",
       "      <td>2</td>\n",
       "      <td>2</td>\n",
       "      <td>0</td>\n",
       "      <td>1</td>\n",
       "      <td>1</td>\n",
       "      <td>2</td>\n",
       "      <td>987</td>\n",
       "      <td>1</td>\n",
       "      <td>1000</td>\n",
       "    </tr>\n",
       "    <tr>\n",
       "      <th>Ankle boot</th>\n",
       "      <td>0</td>\n",
       "      <td>0</td>\n",
       "      <td>0</td>\n",
       "      <td>0</td>\n",
       "      <td>0</td>\n",
       "      <td>6</td>\n",
       "      <td>1</td>\n",
       "      <td>24</td>\n",
       "      <td>0</td>\n",
       "      <td>969</td>\n",
       "      <td>1000</td>\n",
       "    </tr>\n",
       "    <tr>\n",
       "      <th>All</th>\n",
       "      <td>1000</td>\n",
       "      <td>988</td>\n",
       "      <td>1049</td>\n",
       "      <td>998</td>\n",
       "      <td>933</td>\n",
       "      <td>996</td>\n",
       "      <td>1026</td>\n",
       "      <td>1014</td>\n",
       "      <td>1003</td>\n",
       "      <td>993</td>\n",
       "      <td>10000</td>\n",
       "    </tr>\n",
       "  </tbody>\n",
       "</table>\n",
       "</div>"
      ],
      "text/plain": [
       "Predicted    T-shirt/top  Trouser  Pullover  Dress  Coat  Sandal  Shirt  \\\n",
       "True                                                                      \n",
       "T-shirt/top          869        0        17     14     3       0     91   \n",
       "Trouser                0      984         0     11     0       0      4   \n",
       "Pullover              11        1       883      9    31       0     65   \n",
       "Dress                 13        3        11    917    19       0     34   \n",
       "Coat                   2        0        83     20   836       0     59   \n",
       "Sandal                 0        0         0      0     0     984      0   \n",
       "Shirt                101        0        53     25    44       0    771   \n",
       "Sneaker                0        0         0      0     0       5      0   \n",
       "Bag                    4        0         2      2     0       1      1   \n",
       "Ankle boot             0        0         0      0     0       6      1   \n",
       "All                 1000      988      1049    998   933     996   1026   \n",
       "\n",
       "Predicted    Sneaker   Bag  Ankle boot    All  \n",
       "True                                           \n",
       "T-shirt/top        0     6           0   1000  \n",
       "Trouser            0     1           0   1000  \n",
       "Pullover           0     0           0   1000  \n",
       "Dress              0     3           0   1000  \n",
       "Coat               0     0           0   1000  \n",
       "Sandal            12     0           4   1000  \n",
       "Shirt              0     6           0   1000  \n",
       "Sneaker          976     0          19   1000  \n",
       "Bag                2   987           1   1000  \n",
       "Ankle boot        24     0         969   1000  \n",
       "All             1014  1003         993  10000  "
      ]
     },
     "execution_count": 28,
     "metadata": {},
     "output_type": "execute_result"
    }
   ],
   "source": [
    "crosstab.rename(columns=classes, index=classes, inplace=True)\n",
    "crosstab"
   ]
  },
  {
   "cell_type": "markdown",
   "metadata": {
    "id": "JHGzeHvBTdHX"
   },
   "source": [
    "Analyzing our crosstab, we can notice that our best accuracy was achieved for the Sandals classification (99,1%), while our lowest accuracy was for the Shirts (76,9%). The crosstab provides a great way to visualize the quantities predicted by our model for each class. We can easily see, for example, that it predicted Shirt as T-shirt/Top for 74 examples or that it didn't predict any Bag as Ankle boot."
   ]
  },
  {
   "cell_type": "markdown",
   "metadata": {
    "id": "13PH8iU9auU5"
   },
   "source": [
    "**Classification Report**\n",
    "\n",
    "Now, let's plot a summary with the precision, recall and, f1-score for each class using the classification report from the scikit-learn library. Here it is possible to see that we didn't have a considerate disparity between precision and recall for any classes. As we noticed in the crosstab, our worst result is for the Shirt class."
   ]
  },
  {
   "cell_type": "code",
   "execution_count": 29,
   "metadata": {
    "colab": {
     "base_uri": "https://localhost:8080/"
    },
    "id": "G0xm7COjW47F",
    "outputId": "4695181f-9ef3-4e97-be39-e64265de4a5d"
   },
   "outputs": [
    {
     "name": "stdout",
     "output_type": "stream",
     "text": [
      "              precision    recall  f1-score   support\n",
      "\n",
      " T-shirt/top       0.87      0.87      0.87      1000\n",
      "     Trouser       1.00      0.98      0.99      1000\n",
      "    Pullover       0.84      0.88      0.86      1000\n",
      "       Dress       0.92      0.92      0.92      1000\n",
      "        Coat       0.90      0.84      0.86      1000\n",
      "      Sandal       0.99      0.98      0.99      1000\n",
      "       Shirt       0.75      0.77      0.76      1000\n",
      "     Sneaker       0.96      0.98      0.97      1000\n",
      "         Bag       0.98      0.99      0.99      1000\n",
      "  Ankle boot       0.98      0.97      0.97      1000\n",
      "\n",
      "    accuracy                           0.92     10000\n",
      "   macro avg       0.92      0.92      0.92     10000\n",
      "weighted avg       0.92      0.92      0.92     10000\n",
      "\n"
     ]
    }
   ],
   "source": [
    "print(classification_report(true_label, predicted_label, target_names=class_names))"
   ]
  },
  {
   "cell_type": "markdown",
   "metadata": {
    "id": "np8AKc2AOxUP"
   },
   "source": [
    "##Conclusion"
   ]
  },
  {
   "cell_type": "markdown",
   "metadata": {
    "id": "n9GFUwUqPUbC"
   },
   "source": [
    "In this project, it was presented how to train a Convolutional Neural Network to classify images of clothing from the Fashion MNIST dataset using TensorFlow and Keras. Using this model, we got an overall accuracy of 91,55% in our test dataset, which is a good result. However, specifically for our *Shirt* class we got an accuracy of only 76,90%. We could try to improve the accuracy of this class using some data augmentation techniques. Furthermore, in case you want to get a model with higher accuracy, you could try changing some hyperparameters or using different network architectures.\n",
    "\n",
    "Should you have any questions or feedbacks about this project, feel free to contact me on <a href=\"https://www.linkedin.com/in/hugoplm/\">LinkedIn</a>."
   ]
  },
  {
   "cell_type": "markdown",
   "metadata": {
    "id": "bZX-InTtrnga"
   },
   "source": [
    "## References"
   ]
  },
  {
   "cell_type": "markdown",
   "metadata": {
    "id": "fZUve_Glezsw"
   },
   "source": [
    "[1]: Géron, Aurélien (2019). Hands-On Machine Learning with Scikit-Learn, Keras and TensorFlow (2nd ed.). Sebastopol, CA: O’Reilly Media, Inc.\n",
    "\n",
    "[2]: Brownlee, Jason (2020, June 30). Why One-Hot Encode Data in Machine Learning?. Retrieved from https://machinelearningmastery.com/why-one-hot-encode-data-in-machine-learning/"
   ]
  }
 ],
 "metadata": {
  "accelerator": "GPU",
  "colab": {
   "authorship_tag": "ABX9TyMiWCLOkIVQCutCA5JEa02J",
   "collapsed_sections": [],
   "include_colab_link": true,
   "name": "Classifying_Clothing_TensorFlow.ipynb",
   "provenance": [],
   "toc_visible": true
  },
  "kernelspec": {
   "display_name": "Python 3 (ipykernel)",
   "language": "python",
   "name": "python3"
  },
  "language_info": {
   "codemirror_mode": {
    "name": "ipython",
    "version": 3
   },
   "file_extension": ".py",
   "mimetype": "text/x-python",
   "name": "python",
   "nbconvert_exporter": "python",
   "pygments_lexer": "ipython3",
   "version": "3.9.7"
  }
 },
 "nbformat": 4,
 "nbformat_minor": 1
}
