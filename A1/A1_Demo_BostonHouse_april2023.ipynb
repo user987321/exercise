{
 "cells": [
  {
   "cell_type": "code",
   "execution_count": null,
   "id": "685fc262",
   "metadata": {},
   "outputs": [],
   "source": [
    "Assignment 1 : Linear regression by using Deep Neural network: Implement Boston housing price prediction problem by Linear regression using Deep Neural network. Use Boston House price prediction dataset."
   ]
  },
  {
   "cell_type": "code",
   "execution_count": 1,
   "id": "da556b4b",
   "metadata": {},
   "outputs": [],
   "source": [
    "import tensorflow as tf \n",
    "from tensorflow import keras\n",
    "from tensorflow.keras import Sequential\n",
    "from tensorflow.keras.layers import Dense,Flatten\n",
    "from sklearn import preprocessing"
   ]
  },
  {
   "cell_type": "code",
   "execution_count": 5,
   "id": "fce39f78",
   "metadata": {},
   "outputs": [],
   "source": [
    "(X_train,y_train),(X_test,y_test)=keras.datasets.boston_housing.load_data()"
   ]
  },
  {
   "cell_type": "code",
   "execution_count": 6,
   "id": "576c537f",
   "metadata": {},
   "outputs": [
    {
     "name": "stdout",
     "output_type": "stream",
     "text": [
      "Training data shape: (404, 13)\n"
     ]
    }
   ],
   "source": [
    "print(\"Training data shape:\",X_train.shape)"
   ]
  },
  {
   "cell_type": "code",
   "execution_count": 7,
   "id": "7809337a",
   "metadata": {},
   "outputs": [
    {
     "name": "stdout",
     "output_type": "stream",
     "text": [
      "Testing data shape: (102, 13)\n"
     ]
    }
   ],
   "source": [
    "print(\"Testing data shape:\",X_test.shape)"
   ]
  },
  {
   "cell_type": "code",
   "execution_count": 8,
   "id": "08fd8631",
   "metadata": {},
   "outputs": [
    {
     "name": "stdout",
     "output_type": "stream",
     "text": [
      "Train output data shape: (404,)\n"
     ]
    }
   ],
   "source": [
    "print(\"Train output data shape:\",y_train.shape)\n"
   ]
  },
  {
   "cell_type": "code",
   "execution_count": 9,
   "id": "7da4d27b",
   "metadata": {},
   "outputs": [
    {
     "name": "stdout",
     "output_type": "stream",
     "text": [
      "Actual Test  output data shape: (102,)\n"
     ]
    }
   ],
   "source": [
    "print(\"Actual Test  output data shape:\",y_test.shape)"
   ]
  },
  {
   "cell_type": "code",
   "execution_count": 10,
   "id": "744e5cdc",
   "metadata": {},
   "outputs": [
    {
     "data": {
      "text/plain": [
       "array([  1.23247,   0.     ,   8.14   ,   0.     ,   0.538  ,   6.142  ,\n",
       "        91.7    ,   3.9769 ,   4.     , 307.     ,  21.     , 396.9    ,\n",
       "        18.72   ])"
      ]
     },
     "execution_count": 10,
     "metadata": {},
     "output_type": "execute_result"
    }
   ],
   "source": [
    "X_train[0]"
   ]
  },
  {
   "cell_type": "code",
   "execution_count": 11,
   "id": "8a5dfbd6",
   "metadata": {},
   "outputs": [
    {
     "data": {
      "text/plain": [
       "15.2"
      ]
     },
     "execution_count": 11,
     "metadata": {},
     "output_type": "execute_result"
    }
   ],
   "source": [
    "y_train[0]"
   ]
  },
  {
   "cell_type": "code",
   "execution_count": 12,
   "id": "f30041af",
   "metadata": {},
   "outputs": [
    {
     "data": {
      "text/plain": [
       "array([15.2, 42.3, 50. , 21.1, 17.7, 18.5, 11.3, 15.6, 15.6, 14.4, 12.1,\n",
       "       17.9, 23.1, 19.9, 15.7,  8.8, 50. , 22.5, 24.1, 27.5, 10.9, 30.8,\n",
       "       32.9, 24. , 18.5, 13.3, 22.9, 34.7, 16.6, 17.5, 22.3, 16.1, 14.9,\n",
       "       23.1, 34.9, 25. , 13.9, 13.1, 20.4, 20. , 15.2, 24.7, 22.2, 16.7,\n",
       "       12.7, 15.6, 18.4, 21. , 30.1, 15.1, 18.7,  9.6, 31.5, 24.8, 19.1,\n",
       "       22. , 14.5, 11. , 32. , 29.4, 20.3, 24.4, 14.6, 19.5, 14.1, 14.3,\n",
       "       15.6, 10.5,  6.3, 19.3, 19.3, 13.4, 36.4, 17.8, 13.5, 16.5,  8.3,\n",
       "       14.3, 16. , 13.4, 28.6, 43.5, 20.2, 22. , 23. , 20.7, 12.5, 48.5,\n",
       "       14.6, 13.4, 23.7, 50. , 21.7, 39.8, 38.7, 22.2, 34.9, 22.5, 31.1,\n",
       "       28.7, 46. , 41.7, 21. , 26.6, 15. , 24.4, 13.3, 21.2, 11.7, 21.7,\n",
       "       19.4, 50. , 22.8, 19.7, 24.7, 36.2, 14.2, 18.9, 18.3, 20.6, 24.6,\n",
       "       18.2,  8.7, 44. , 10.4, 13.2, 21.2, 37. , 30.7, 22.9, 20. , 19.3,\n",
       "       31.7, 32. , 23.1, 18.8, 10.9, 50. , 19.6,  5. , 14.4, 19.8, 13.8,\n",
       "       19.6, 23.9, 24.5, 25. , 19.9, 17.2, 24.6, 13.5, 26.6, 21.4, 11.9,\n",
       "       22.6, 19.6,  8.5, 23.7, 23.1, 22.4, 20.5, 23.6, 18.4, 35.2, 23.1,\n",
       "       27.9, 20.6, 23.7, 28. , 13.6, 27.1, 23.6, 20.6, 18.2, 21.7, 17.1,\n",
       "        8.4, 25.3, 13.8, 22.2, 18.4, 20.7, 31.6, 30.5, 20.3,  8.8, 19.2,\n",
       "       19.4, 23.1, 23. , 14.8, 48.8, 22.6, 33.4, 21.1, 13.6, 32.2, 13.1,\n",
       "       23.4, 18.9, 23.9, 11.8, 23.3, 22.8, 19.6, 16.7, 13.4, 22.2, 20.4,\n",
       "       21.8, 26.4, 14.9, 24.1, 23.8, 12.3, 29.1, 21. , 19.5, 23.3, 23.8,\n",
       "       17.8, 11.5, 21.7, 19.9, 25. , 33.4, 28.5, 21.4, 24.3, 27.5, 33.1,\n",
       "       16.2, 23.3, 48.3, 22.9, 22.8, 13.1, 12.7, 22.6, 15. , 15.3, 10.5,\n",
       "       24. , 18.5, 21.7, 19.5, 33.2, 23.2,  5. , 19.1, 12.7, 22.3, 10.2,\n",
       "       13.9, 16.3, 17. , 20.1, 29.9, 17.2, 37.3, 45.4, 17.8, 23.2, 29. ,\n",
       "       22. , 18. , 17.4, 34.6, 20.1, 25. , 15.6, 24.8, 28.2, 21.2, 21.4,\n",
       "       23.8, 31. , 26.2, 17.4, 37.9, 17.5, 20. ,  8.3, 23.9,  8.4, 13.8,\n",
       "        7.2, 11.7, 17.1, 21.6, 50. , 16.1, 20.4, 20.6, 21.4, 20.6, 36.5,\n",
       "        8.5, 24.8, 10.8, 21.9, 17.3, 18.9, 36.2, 14.9, 18.2, 33.3, 21.8,\n",
       "       19.7, 31.6, 24.8, 19.4, 22.8,  7.5, 44.8, 16.8, 18.7, 50. , 50. ,\n",
       "       19.5, 20.1, 50. , 17.2, 20.8, 19.3, 41.3, 20.4, 20.5, 13.8, 16.5,\n",
       "       23.9, 20.6, 31.5, 23.3, 16.8, 14. , 33.8, 36.1, 12.8, 18.3, 18.7,\n",
       "       19.1, 29. , 30.1, 50. , 50. , 22. , 11.9, 37.6, 50. , 22.7, 20.8,\n",
       "       23.5, 27.9, 50. , 19.3, 23.9, 22.6, 15.2, 21.7, 19.2, 43.8, 20.3,\n",
       "       33.2, 19.9, 22.5, 32.7, 22. , 17.1, 19. , 15. , 16.1, 25.1, 23.7,\n",
       "       28.7, 37.2, 22.6, 16.4, 25. , 29.8, 22.1, 17.4, 18.1, 30.3, 17.5,\n",
       "       24.7, 12.6, 26.5, 28.7, 13.3, 10.4, 24.4, 23. , 20. , 17.8,  7. ,\n",
       "       11.8, 24.4, 13.8, 19.4, 25.2, 19.4, 19.4, 29.1])"
      ]
     },
     "execution_count": 12,
     "metadata": {},
     "output_type": "execute_result"
    }
   ],
   "source": [
    "y_train\n"
   ]
  },
  {
   "cell_type": "code",
   "execution_count": null,
   "id": "4e616813",
   "metadata": {},
   "outputs": [],
   "source": [
    "## Normalize the data"
   ]
  },
  {
   "cell_type": "code",
   "execution_count": 13,
   "id": "801e56cd",
   "metadata": {},
   "outputs": [],
   "source": [
    "X_train=preprocessing.normalize(X_train)"
   ]
  },
  {
   "cell_type": "code",
   "execution_count": 14,
   "id": "d4eacdb1",
   "metadata": {},
   "outputs": [
    {
     "data": {
      "text/plain": [
       "array([[2.41189924e-03, 0.00000000e+00, 1.59296858e-02, ...,\n",
       "        4.10962409e-02, 7.76718953e-01, 3.66343633e-02],\n",
       "       [4.07923050e-05, 1.54587284e-01, 3.80378407e-03, ...,\n",
       "        2.75446433e-02, 7.40857215e-01, 5.82747215e-03],\n",
       "       [6.34505528e-03, 0.00000000e+00, 2.34463745e-02, ...,\n",
       "        2.61666721e-02, 4.86441025e-01, 4.22293817e-03],\n",
       "       ...,\n",
       "       [7.29281484e-05, 7.36435428e-02, 1.27508534e-02, ...,\n",
       "        3.55593107e-02, 7.62210668e-01, 1.64751126e-02],\n",
       "       [4.37205159e-03, 0.00000000e+00, 3.98313637e-02, ...,\n",
       "        2.99040371e-02, 5.32881804e-01, 3.21214113e-02],\n",
       "       [3.09311543e-05, 1.28969372e-01, 6.29800433e-03, ...,\n",
       "        3.35320367e-02, 8.09712706e-01, 9.41476414e-03]])"
      ]
     },
     "execution_count": 14,
     "metadata": {},
     "output_type": "execute_result"
    }
   ],
   "source": [
    "X_train"
   ]
  },
  {
   "cell_type": "code",
   "execution_count": 32,
   "id": "8e3c48d7",
   "metadata": {},
   "outputs": [
    {
     "data": {
      "text/plain": [
       "array([0.0024119 , 0.        , 0.01592969, 0.        , 0.00105285,\n",
       "       0.01201967, 0.17945359, 0.00778265, 0.00782786, 0.6007879 ,\n",
       "       0.04109624, 0.77671895, 0.03663436])"
      ]
     },
     "execution_count": 32,
     "metadata": {},
     "output_type": "execute_result"
    }
   ],
   "source": [
    "X_train[0]"
   ]
  },
  {
   "cell_type": "code",
   "execution_count": 34,
   "id": "ab1b3da3",
   "metadata": {},
   "outputs": [
    {
     "data": {
      "text/plain": [
       "array([4.07923050e-05, 1.54587284e-01, 3.80378407e-03, 0.00000000e+00,\n",
       "       7.77620881e-04, 1.42595058e-02, 2.94184285e-02, 1.17486336e-02,\n",
       "       3.74757051e-03, 6.52077269e-01, 2.75446433e-02, 7.40857215e-01,\n",
       "       5.82747215e-03])"
      ]
     },
     "execution_count": 34,
     "metadata": {},
     "output_type": "execute_result"
    }
   ],
   "source": [
    "X_train[1]"
   ]
  },
  {
   "cell_type": "code",
   "execution_count": 15,
   "id": "245e7ee5",
   "metadata": {},
   "outputs": [],
   "source": [
    "X_test=preprocessing.normalize(X_test)"
   ]
  },
  {
   "cell_type": "code",
   "execution_count": 16,
   "id": "8ba838db",
   "metadata": {},
   "outputs": [
    {
     "data": {
      "text/plain": [
       "array([[2.67567471e-02, 0.00000000e+00, 2.67795319e-02, ...,\n",
       "        2.98865495e-02, 4.03172511e-02, 4.29804090e-02],\n",
       "       [2.07806276e-04, 0.00000000e+00, 1.68719346e-02, ...,\n",
       "        3.00020416e-02, 6.65691367e-01, 2.73220840e-02],\n",
       "       [1.19845746e-04, 0.00000000e+00, 1.13152524e-02, ...,\n",
       "        4.40400960e-02, 8.65322480e-01, 2.12351750e-02],\n",
       "       ...,\n",
       "       [3.21889389e-03, 0.00000000e+00, 3.43696005e-02, ...,\n",
       "        2.58035305e-02, 6.83898879e-01, 3.37025704e-03],\n",
       "       [7.07644197e-04, 0.00000000e+00, 1.22522104e-02, ...,\n",
       "        3.43852356e-02, 7.74063034e-01, 1.91885424e-02],\n",
       "       [6.10350794e-03, 0.00000000e+00, 4.08709594e-02, ...,\n",
       "        3.06845303e-02, 5.01305905e-01, 2.04772274e-02]])"
      ]
     },
     "execution_count": 16,
     "metadata": {},
     "output_type": "execute_result"
    }
   ],
   "source": [
    "X_test"
   ]
  },
  {
   "cell_type": "code",
   "execution_count": 29,
   "id": "235672f1",
   "metadata": {},
   "outputs": [
    {
     "data": {
      "text/plain": [
       "array([0.02675675, 0.        , 0.02677953, 0.        , 0.0010046 ,\n",
       "       0.00951931, 0.14795322, 0.0027145 , 0.03550877, 0.98536841,\n",
       "       0.02988655, 0.04031725, 0.04298041])"
      ]
     },
     "execution_count": 29,
     "metadata": {},
     "output_type": "execute_result"
    }
   ],
   "source": [
    "X_test[0]"
   ]
  },
  {
   "cell_type": "code",
   "execution_count": 30,
   "id": "7fd7ba83",
   "metadata": {},
   "outputs": [
    {
     "data": {
      "text/plain": [
       "7.2"
      ]
     },
     "execution_count": 30,
     "metadata": {},
     "output_type": "execute_result"
    }
   ],
   "source": [
    "y_test[0]"
   ]
  },
  {
   "cell_type": "code",
   "execution_count": null,
   "id": "d70b31f5",
   "metadata": {},
   "outputs": [],
   "source": [
    "## Model Building"
   ]
  },
  {
   "cell_type": "code",
   "execution_count": 17,
   "id": "052e1960",
   "metadata": {},
   "outputs": [
    {
     "data": {
      "text/plain": [
       "(13,)"
      ]
     },
     "execution_count": 17,
     "metadata": {},
     "output_type": "execute_result"
    }
   ],
   "source": [
    "X_train[0].shape"
   ]
  },
  {
   "cell_type": "code",
   "execution_count": 20,
   "id": "55f34987",
   "metadata": {},
   "outputs": [],
   "source": [
    "model=Sequential()\n",
    "model.add(Dense(128,activation='relu',input_shape= X_train[0].shape))\n",
    "model.add(Dense(64,activation='relu'))\n",
    "model.add(Dense(32,activation='relu'))\n",
    "model.add(Dense(1))"
   ]
  },
  {
   "cell_type": "code",
   "execution_count": 21,
   "id": "c5e6964a",
   "metadata": {},
   "outputs": [
    {
     "name": "stdout",
     "output_type": "stream",
     "text": [
      "Model: \"sequential_2\"\n",
      "_________________________________________________________________\n",
      " Layer (type)                Output Shape              Param #   \n",
      "=================================================================\n",
      " dense_2 (Dense)             (None, 128)               1792      \n",
      "                                                                 \n",
      " dense_3 (Dense)             (None, 64)                8256      \n",
      "                                                                 \n",
      " dense_4 (Dense)             (None, 32)                2080      \n",
      "                                                                 \n",
      " dense_5 (Dense)             (None, 1)                 33        \n",
      "                                                                 \n",
      "=================================================================\n",
      "Total params: 12,161\n",
      "Trainable params: 12,161\n",
      "Non-trainable params: 0\n",
      "_________________________________________________________________\n"
     ]
    }
   ],
   "source": [
    "model.summary()"
   ]
  },
  {
   "cell_type": "code",
   "execution_count": 26,
   "id": "8351817c",
   "metadata": {},
   "outputs": [],
   "source": [
    "model.compile(loss='mse',optimizer='rmsprop',metrics=['mae'])"
   ]
  },
  {
   "cell_type": "code",
   "execution_count": 28,
   "id": "6ed3251d",
   "metadata": {},
   "outputs": [
    {
     "name": "stdout",
     "output_type": "stream",
     "text": [
      "Epoch 1/100\n",
      "404/404 [==============================] - 1s 1ms/step - loss: 46.0892 - mae: 4.6283 - val_loss: 49.9646 - val_mae: 4.9288\n",
      "Epoch 2/100\n",
      "404/404 [==============================] - 0s 1ms/step - loss: 44.3705 - mae: 4.5080 - val_loss: 44.7263 - val_mae: 4.6579\n",
      "Epoch 3/100\n",
      "404/404 [==============================] - 0s 982us/step - loss: 42.1977 - mae: 4.3674 - val_loss: 42.6602 - val_mae: 4.9223\n",
      "Epoch 4/100\n",
      "404/404 [==============================] - 0s 995us/step - loss: 42.4866 - mae: 4.4143 - val_loss: 40.3412 - val_mae: 4.3943\n",
      "Epoch 5/100\n",
      "404/404 [==============================] - 0s 1ms/step - loss: 40.4584 - mae: 4.3117 - val_loss: 36.9364 - val_mae: 4.3354\n",
      "Epoch 6/100\n",
      "404/404 [==============================] - 0s 985us/step - loss: 38.6106 - mae: 4.3190 - val_loss: 47.0975 - val_mae: 4.7888\n",
      "Epoch 7/100\n",
      "404/404 [==============================] - 0s 1ms/step - loss: 37.7276 - mae: 4.2428 - val_loss: 40.7833 - val_mae: 4.4129\n",
      "Epoch 8/100\n",
      "404/404 [==============================] - 0s 991us/step - loss: 37.8747 - mae: 4.3096 - val_loss: 34.1874 - val_mae: 4.2422\n",
      "Epoch 9/100\n",
      "404/404 [==============================] - 0s 990us/step - loss: 34.6658 - mae: 4.1117 - val_loss: 42.6545 - val_mae: 4.5179\n",
      "Epoch 10/100\n",
      "404/404 [==============================] - 0s 1ms/step - loss: 34.9294 - mae: 4.1050 - val_loss: 31.9306 - val_mae: 3.9168\n",
      "Epoch 11/100\n",
      "404/404 [==============================] - 0s 1ms/step - loss: 34.7040 - mae: 4.2205 - val_loss: 44.0729 - val_mae: 4.5981\n",
      "Epoch 12/100\n",
      "404/404 [==============================] - 0s 1ms/step - loss: 34.0162 - mae: 4.1105 - val_loss: 30.1802 - val_mae: 3.8526\n",
      "Epoch 13/100\n",
      "404/404 [==============================] - 0s 999us/step - loss: 32.7211 - mae: 4.0763 - val_loss: 29.9802 - val_mae: 3.8750\n",
      "Epoch 14/100\n",
      "404/404 [==============================] - 0s 1ms/step - loss: 32.2446 - mae: 3.9582 - val_loss: 27.8819 - val_mae: 3.8118\n",
      "Epoch 15/100\n",
      "404/404 [==============================] - 0s 958us/step - loss: 30.8436 - mae: 3.9040 - val_loss: 29.0124 - val_mae: 3.8536\n",
      "Epoch 16/100\n",
      "404/404 [==============================] - 0s 945us/step - loss: 30.9640 - mae: 3.8839 - val_loss: 28.0989 - val_mae: 3.9456\n",
      "Epoch 17/100\n",
      "404/404 [==============================] - 0s 929us/step - loss: 29.1573 - mae: 3.8263 - val_loss: 47.9449 - val_mae: 4.9457\n",
      "Epoch 18/100\n",
      "404/404 [==============================] - 0s 911us/step - loss: 29.6104 - mae: 3.8059 - val_loss: 26.6959 - val_mae: 3.7711\n",
      "Epoch 19/100\n",
      "404/404 [==============================] - 0s 959us/step - loss: 28.3297 - mae: 3.8169 - val_loss: 26.7015 - val_mae: 3.6642\n",
      "Epoch 20/100\n",
      "404/404 [==============================] - 0s 950us/step - loss: 26.0085 - mae: 3.6706 - val_loss: 28.1687 - val_mae: 3.7185\n",
      "Epoch 21/100\n",
      "404/404 [==============================] - 0s 918us/step - loss: 27.1008 - mae: 3.7228 - val_loss: 26.6665 - val_mae: 3.6985\n",
      "Epoch 22/100\n",
      "404/404 [==============================] - 0s 977us/step - loss: 26.5233 - mae: 3.6308 - val_loss: 27.8919 - val_mae: 3.7148\n",
      "Epoch 23/100\n",
      "404/404 [==============================] - 0s 946us/step - loss: 26.7145 - mae: 3.6572 - val_loss: 25.5191 - val_mae: 3.6621\n",
      "Epoch 24/100\n",
      "404/404 [==============================] - 0s 960us/step - loss: 24.8619 - mae: 3.5089 - val_loss: 30.5179 - val_mae: 3.8810\n",
      "Epoch 25/100\n",
      "404/404 [==============================] - 0s 998us/step - loss: 24.1435 - mae: 3.5787 - val_loss: 30.1012 - val_mae: 3.8342\n",
      "Epoch 26/100\n",
      "404/404 [==============================] - 0s 985us/step - loss: 24.7670 - mae: 3.5325 - val_loss: 33.9442 - val_mae: 4.1577\n",
      "Epoch 27/100\n",
      "404/404 [==============================] - 0s 973us/step - loss: 23.1435 - mae: 3.5011 - val_loss: 30.6998 - val_mae: 3.8525\n",
      "Epoch 28/100\n",
      "404/404 [==============================] - 0s 1ms/step - loss: 23.1500 - mae: 3.4475 - val_loss: 25.7436 - val_mae: 3.6350\n",
      "Epoch 29/100\n",
      "404/404 [==============================] - 0s 1ms/step - loss: 21.9577 - mae: 3.3307 - val_loss: 29.6767 - val_mae: 3.8754\n",
      "Epoch 30/100\n",
      "404/404 [==============================] - 0s 1ms/step - loss: 21.9644 - mae: 3.3525 - val_loss: 27.6268 - val_mae: 3.9813\n",
      "Epoch 31/100\n",
      "404/404 [==============================] - 0s 1ms/step - loss: 21.5842 - mae: 3.3821 - val_loss: 28.4405 - val_mae: 3.7137\n",
      "Epoch 32/100\n",
      "404/404 [==============================] - 0s 1ms/step - loss: 21.4341 - mae: 3.3375 - val_loss: 32.5281 - val_mae: 4.0548\n",
      "Epoch 33/100\n",
      "404/404 [==============================] - 0s 946us/step - loss: 21.0383 - mae: 3.2599 - val_loss: 27.8818 - val_mae: 3.7149\n",
      "Epoch 34/100\n",
      "404/404 [==============================] - 0s 940us/step - loss: 21.5877 - mae: 3.3035 - val_loss: 26.1322 - val_mae: 3.5963\n",
      "Epoch 35/100\n",
      "404/404 [==============================] - 0s 960us/step - loss: 20.0472 - mae: 3.2076 - val_loss: 27.2689 - val_mae: 3.6797\n",
      "Epoch 36/100\n",
      "404/404 [==============================] - 0s 1ms/step - loss: 21.2193 - mae: 3.3143 - val_loss: 27.2873 - val_mae: 3.9418\n",
      "Epoch 37/100\n",
      "404/404 [==============================] - 0s 1ms/step - loss: 21.4498 - mae: 3.3110 - val_loss: 29.6900 - val_mae: 4.2140\n",
      "Epoch 38/100\n",
      "404/404 [==============================] - 0s 1ms/step - loss: 20.3501 - mae: 3.2861 - val_loss: 28.4663 - val_mae: 3.7461\n",
      "Epoch 39/100\n",
      "404/404 [==============================] - 0s 1ms/step - loss: 19.7302 - mae: 3.2234 - val_loss: 27.0087 - val_mae: 3.6454\n",
      "Epoch 40/100\n",
      "404/404 [==============================] - 0s 974us/step - loss: 19.7583 - mae: 3.1595 - val_loss: 30.8638 - val_mae: 3.9156\n",
      "Epoch 41/100\n",
      "404/404 [==============================] - 0s 1ms/step - loss: 19.3827 - mae: 3.1663 - val_loss: 26.3918 - val_mae: 3.6275\n",
      "Epoch 42/100\n",
      "404/404 [==============================] - 0s 999us/step - loss: 19.8880 - mae: 3.2770 - val_loss: 30.0912 - val_mae: 3.8169\n",
      "Epoch 43/100\n",
      "404/404 [==============================] - 0s 993us/step - loss: 19.3441 - mae: 3.1649 - val_loss: 27.3875 - val_mae: 3.6395\n",
      "Epoch 44/100\n",
      "404/404 [==============================] - 0s 972us/step - loss: 18.8513 - mae: 3.0664 - val_loss: 34.1382 - val_mae: 4.6318\n",
      "Epoch 45/100\n",
      "404/404 [==============================] - 0s 992us/step - loss: 19.3380 - mae: 3.1785 - val_loss: 29.8565 - val_mae: 3.7891\n",
      "Epoch 46/100\n",
      "404/404 [==============================] - 0s 1ms/step - loss: 18.6316 - mae: 3.1212 - val_loss: 35.0335 - val_mae: 4.1274\n",
      "Epoch 47/100\n",
      "404/404 [==============================] - 0s 983us/step - loss: 17.9113 - mae: 3.0885 - val_loss: 51.0103 - val_mae: 5.3813\n",
      "Epoch 48/100\n",
      "404/404 [==============================] - 0s 1ms/step - loss: 18.1548 - mae: 3.0982 - val_loss: 27.4622 - val_mae: 3.6744\n",
      "Epoch 49/100\n",
      "404/404 [==============================] - 0s 999us/step - loss: 18.0226 - mae: 3.1263 - val_loss: 27.2752 - val_mae: 3.7503\n",
      "Epoch 50/100\n",
      "404/404 [==============================] - 0s 1ms/step - loss: 18.8926 - mae: 3.1492 - val_loss: 36.5538 - val_mae: 4.1842\n",
      "Epoch 51/100\n",
      "404/404 [==============================] - 0s 1ms/step - loss: 18.6949 - mae: 3.1108 - val_loss: 32.7353 - val_mae: 4.1851\n",
      "Epoch 52/100\n",
      "404/404 [==============================] - 0s 980us/step - loss: 17.6869 - mae: 3.0412 - val_loss: 29.8501 - val_mae: 3.9471\n",
      "Epoch 53/100\n",
      "404/404 [==============================] - 0s 999us/step - loss: 18.0694 - mae: 3.0759 - val_loss: 28.4243 - val_mae: 3.7648\n",
      "Epoch 54/100\n",
      "404/404 [==============================] - 0s 992us/step - loss: 17.5870 - mae: 3.1316 - val_loss: 38.2918 - val_mae: 4.2861\n",
      "Epoch 55/100\n",
      "404/404 [==============================] - 0s 1ms/step - loss: 18.5063 - mae: 3.1277 - val_loss: 40.4409 - val_mae: 4.5245\n",
      "Epoch 56/100\n",
      "404/404 [==============================] - 0s 1ms/step - loss: 17.9146 - mae: 3.0971 - val_loss: 29.6376 - val_mae: 3.6763\n",
      "Epoch 57/100\n",
      "404/404 [==============================] - 0s 1ms/step - loss: 18.5416 - mae: 2.9971 - val_loss: 35.2872 - val_mae: 4.3048\n",
      "Epoch 58/100\n",
      "404/404 [==============================] - 0s 1ms/step - loss: 18.8342 - mae: 3.1000 - val_loss: 32.5464 - val_mae: 3.9327\n",
      "Epoch 59/100\n",
      "404/404 [==============================] - 0s 1ms/step - loss: 17.2722 - mae: 2.9850 - val_loss: 29.5740 - val_mae: 3.7216\n",
      "Epoch 60/100\n",
      "404/404 [==============================] - 0s 1ms/step - loss: 18.3899 - mae: 3.0537 - val_loss: 29.1419 - val_mae: 3.8994\n"
     ]
    },
    {
     "name": "stdout",
     "output_type": "stream",
     "text": [
      "Epoch 61/100\n",
      "404/404 [==============================] - 0s 973us/step - loss: 17.9928 - mae: 2.9647 - val_loss: 30.4862 - val_mae: 3.7215\n",
      "Epoch 62/100\n",
      "404/404 [==============================] - 0s 1ms/step - loss: 18.3809 - mae: 3.0704 - val_loss: 27.6368 - val_mae: 3.5819\n",
      "Epoch 63/100\n",
      "404/404 [==============================] - 0s 989us/step - loss: 17.7045 - mae: 3.0129 - val_loss: 31.0083 - val_mae: 3.8201\n",
      "Epoch 64/100\n",
      "404/404 [==============================] - 0s 995us/step - loss: 17.4557 - mae: 3.0251 - val_loss: 30.8498 - val_mae: 3.7829\n",
      "Epoch 65/100\n",
      "404/404 [==============================] - 0s 1ms/step - loss: 18.1587 - mae: 3.0492 - val_loss: 42.7948 - val_mae: 4.8277\n",
      "Epoch 66/100\n",
      "404/404 [==============================] - 0s 1ms/step - loss: 16.2356 - mae: 2.8942 - val_loss: 26.7497 - val_mae: 3.5876\n",
      "Epoch 67/100\n",
      "404/404 [==============================] - 0s 1ms/step - loss: 18.5653 - mae: 3.1142 - val_loss: 32.4707 - val_mae: 3.8437\n",
      "Epoch 68/100\n",
      "404/404 [==============================] - 0s 966us/step - loss: 16.1462 - mae: 2.9517 - val_loss: 35.5325 - val_mae: 4.0320\n",
      "Epoch 69/100\n",
      "404/404 [==============================] - 0s 1ms/step - loss: 17.6008 - mae: 3.0632 - val_loss: 33.0800 - val_mae: 3.9025\n",
      "Epoch 70/100\n",
      "404/404 [==============================] - 0s 981us/step - loss: 17.8259 - mae: 3.0408 - val_loss: 28.1816 - val_mae: 3.6830\n",
      "Epoch 71/100\n",
      "404/404 [==============================] - 0s 969us/step - loss: 17.9496 - mae: 2.9978 - val_loss: 31.1657 - val_mae: 3.8045\n",
      "Epoch 72/100\n",
      "404/404 [==============================] - 0s 930us/step - loss: 16.5462 - mae: 2.9641 - val_loss: 31.9390 - val_mae: 4.0774\n",
      "Epoch 73/100\n",
      "404/404 [==============================] - 0s 1ms/step - loss: 16.7700 - mae: 2.9777 - val_loss: 28.9413 - val_mae: 3.6603\n",
      "Epoch 74/100\n",
      "404/404 [==============================] - 0s 946us/step - loss: 17.7316 - mae: 3.0521 - val_loss: 28.4542 - val_mae: 3.7993\n",
      "Epoch 75/100\n",
      "404/404 [==============================] - 0s 1ms/step - loss: 15.9054 - mae: 2.8896 - val_loss: 29.9460 - val_mae: 3.7431\n",
      "Epoch 76/100\n",
      "404/404 [==============================] - 0s 1ms/step - loss: 16.8765 - mae: 2.8893 - val_loss: 30.4498 - val_mae: 3.8112\n",
      "Epoch 77/100\n",
      "404/404 [==============================] - 0s 1ms/step - loss: 16.2005 - mae: 2.8296 - val_loss: 52.4993 - val_mae: 5.3929\n",
      "Epoch 78/100\n",
      "404/404 [==============================] - 0s 1ms/step - loss: 16.1792 - mae: 2.8766 - val_loss: 28.1404 - val_mae: 3.5619\n",
      "Epoch 79/100\n",
      "404/404 [==============================] - 0s 998us/step - loss: 18.5551 - mae: 2.9965 - val_loss: 27.0045 - val_mae: 3.5189\n",
      "Epoch 80/100\n",
      "404/404 [==============================] - 0s 998us/step - loss: 17.0552 - mae: 2.9869 - val_loss: 30.8579 - val_mae: 3.7272\n",
      "Epoch 81/100\n",
      "404/404 [==============================] - 0s 1ms/step - loss: 16.1179 - mae: 2.8210 - val_loss: 29.6417 - val_mae: 3.6085\n",
      "Epoch 82/100\n",
      "404/404 [==============================] - 0s 1ms/step - loss: 16.1979 - mae: 2.9136 - val_loss: 56.7975 - val_mae: 5.3745\n",
      "Epoch 83/100\n",
      "404/404 [==============================] - 0s 1ms/step - loss: 16.8976 - mae: 2.8821 - val_loss: 27.3394 - val_mae: 3.5278\n",
      "Epoch 84/100\n",
      "404/404 [==============================] - 0s 1ms/step - loss: 17.7511 - mae: 2.9316 - val_loss: 27.8850 - val_mae: 3.6482\n",
      "Epoch 85/100\n",
      "404/404 [==============================] - 0s 1ms/step - loss: 17.9281 - mae: 2.8611 - val_loss: 30.1690 - val_mae: 3.7145\n",
      "Epoch 86/100\n",
      "404/404 [==============================] - 0s 1ms/step - loss: 16.4794 - mae: 2.8960 - val_loss: 28.0448 - val_mae: 3.5846\n",
      "Epoch 87/100\n",
      "404/404 [==============================] - 0s 1ms/step - loss: 17.2154 - mae: 2.8519 - val_loss: 33.3170 - val_mae: 3.8780\n",
      "Epoch 88/100\n",
      "404/404 [==============================] - 0s 1ms/step - loss: 17.1874 - mae: 3.0035 - val_loss: 28.7203 - val_mae: 3.5926\n",
      "Epoch 89/100\n",
      "404/404 [==============================] - 0s 1ms/step - loss: 16.9987 - mae: 2.9526 - val_loss: 33.9969 - val_mae: 4.0096\n",
      "Epoch 90/100\n",
      "404/404 [==============================] - 0s 996us/step - loss: 16.3795 - mae: 2.8490 - val_loss: 27.8055 - val_mae: 3.5351\n",
      "Epoch 91/100\n",
      "404/404 [==============================] - 0s 1ms/step - loss: 16.2646 - mae: 2.8238 - val_loss: 30.6611 - val_mae: 3.9814\n",
      "Epoch 92/100\n",
      "404/404 [==============================] - 0s 1ms/step - loss: 16.3229 - mae: 2.9213 - val_loss: 27.3043 - val_mae: 3.5043\n",
      "Epoch 93/100\n",
      "404/404 [==============================] - 0s 1ms/step - loss: 16.9649 - mae: 2.8613 - val_loss: 26.2089 - val_mae: 3.5476\n",
      "Epoch 94/100\n",
      "404/404 [==============================] - 0s 1ms/step - loss: 15.7348 - mae: 2.8207 - val_loss: 32.5453 - val_mae: 3.7439\n",
      "Epoch 95/100\n",
      "404/404 [==============================] - 0s 1ms/step - loss: 17.5342 - mae: 2.9078 - val_loss: 28.9323 - val_mae: 3.5856\n",
      "Epoch 96/100\n",
      "404/404 [==============================] - 0s 988us/step - loss: 16.7090 - mae: 2.8969 - val_loss: 38.9846 - val_mae: 4.3424\n",
      "Epoch 97/100\n",
      "404/404 [==============================] - 0s 1ms/step - loss: 16.2601 - mae: 2.8384 - val_loss: 27.9643 - val_mae: 3.5780\n",
      "Epoch 98/100\n",
      "404/404 [==============================] - 0s 1ms/step - loss: 16.0425 - mae: 2.8797 - val_loss: 33.4448 - val_mae: 3.9222\n",
      "Epoch 99/100\n",
      "404/404 [==============================] - 0s 1ms/step - loss: 16.7640 - mae: 2.8865 - val_loss: 29.9986 - val_mae: 3.6049\n",
      "Epoch 100/100\n",
      "404/404 [==============================] - 0s 988us/step - loss: 16.6790 - mae: 2.9483 - val_loss: 33.7663 - val_mae: 4.1300\n"
     ]
    }
   ],
   "source": [
    "history= model.fit(X_train,y_train,epochs=100,batch_size=1,verbose=1,validation_data=(X_test,y_test))"
   ]
  },
  {
   "cell_type": "code",
   "execution_count": 33,
   "id": "6a4a79ee",
   "metadata": {},
   "outputs": [
    {
     "name": "stdout",
     "output_type": "stream",
     "text": [
      "Actual output:15.2\n",
      "1/1 [==============================] - 0s 35ms/step\n",
      "Predicted Output: [[19.028976]]\n"
     ]
    }
   ],
   "source": [
    "#test_input=[(0.02675675,0.00000000,0.026779,0.0000000,0.0010046,0.00951931,0.14795322,0.0027145,0.03550877,0.98536841,0.02988655,0.04031725,0.04298041)]\n",
    "test_input=[(0.0024119 , 0.        , 0.01592969, 0.        , 0.00105285,\n",
    "       0.01201967, 0.17945359, 0.00778265, 0.00782786, 0.6007879 ,\n",
    "       0.04109624, 0.77671895, 0.03663436)]\n",
    "print(\"Actual output:15.2\")\n",
    "print(\"Predicted Output:\",model.predict(test_input))"
   ]
  },
  {
   "cell_type": "code",
   "execution_count": 35,
   "id": "9f5f0199",
   "metadata": {},
   "outputs": [
    {
     "name": "stdout",
     "output_type": "stream",
     "text": [
      "Actual output:15.2\n",
      "1/1 [==============================] - 0s 31ms/step\n",
      "Predicted Output: [[40.964622]]\n"
     ]
    }
   ],
   "source": [
    "test_input=[(4.07923050e-05, 1.54587284e-01, 3.80378407e-03, 0.00000000e+00,\n",
    "       7.77620881e-04, 1.42595058e-02, 2.94184285e-02, 1.17486336e-02,\n",
    "       3.74757051e-03, 6.52077269e-01, 2.75446433e-02, 7.40857215e-01,\n",
    "       5.82747215e-03)]\n",
    "print(\"Actual output:42.3\")\n",
    "print(\"Predicted Output:\",model.predict(test_input))"
   ]
  },
  {
   "cell_type": "code",
   "execution_count": null,
   "id": "26f630c0",
   "metadata": {},
   "outputs": [],
   "source": []
  },
  {
   "cell_type": "code",
   "execution_count": 36,
   "id": "e1266a99",
   "metadata": {},
   "outputs": [
    {
     "name": "stdout",
     "output_type": "stream",
     "text": [
      "4/4 [==============================] - 0s 1ms/step\n"
     ]
    }
   ],
   "source": [
    "y_pred=model.predict(X_test)"
   ]
  },
  {
   "cell_type": "code",
   "execution_count": 38,
   "id": "6c7945c3",
   "metadata": {},
   "outputs": [
    {
     "data": {
      "text/plain": [
       "array([[11.097237],\n",
       "       [19.891884],\n",
       "       [23.978962],\n",
       "       [40.476723],\n",
       "       [26.403244],\n",
       "       [21.40718 ],\n",
       "       [32.07225 ],\n",
       "       [25.6069  ],\n",
       "       [20.62743 ],\n",
       "       [21.268955],\n",
       "       [17.37386 ],\n",
       "       [20.698256],\n",
       "       [18.5992  ],\n",
       "       [41.50633 ],\n",
       "       [18.21064 ],\n",
       "       [22.572397],\n",
       "       [25.298908],\n",
       "       [23.109997],\n",
       "       [19.927784],\n",
       "       [27.85856 ],\n",
       "       [13.668438],\n",
       "       [14.813995],\n",
       "       [22.408125],\n",
       "       [18.345507],\n",
       "       [23.607265],\n",
       "       [24.582129],\n",
       "       [27.933378],\n",
       "       [34.176117],\n",
       "       [13.13487 ],\n",
       "       [24.00893 ],\n",
       "       [22.303371],\n",
       "       [14.461793],\n",
       "       [36.94349 ],\n",
       "       [24.489891],\n",
       "       [18.347946],\n",
       "       [12.185698],\n",
       "       [16.732141],\n",
       "       [17.521435],\n",
       "       [21.416134],\n",
       "       [30.097702],\n",
       "       [26.238407],\n",
       "       [28.245678],\n",
       "       [17.77951 ],\n",
       "       [35.275093],\n",
       "       [41.748577],\n",
       "       [24.055986],\n",
       "       [31.252777],\n",
       "       [20.595137],\n",
       "       [29.46723 ],\n",
       "       [23.791147],\n",
       "       [35.15451 ],\n",
       "       [20.54555 ],\n",
       "       [14.32721 ],\n",
       "       [18.445818],\n",
       "       [37.121414],\n",
       "       [29.647758],\n",
       "       [15.700004],\n",
       "       [37.14074 ],\n",
       "       [41.326622],\n",
       "       [26.030615],\n",
       "       [24.362774],\n",
       "       [18.76081 ],\n",
       "       [14.259814],\n",
       "       [21.51795 ],\n",
       "       [26.83842 ],\n",
       "       [26.393326],\n",
       "       [16.266272],\n",
       "       [26.503115],\n",
       "       [15.069317],\n",
       "       [12.685591],\n",
       "       [24.90866 ],\n",
       "       [27.922209],\n",
       "       [23.157509],\n",
       "       [16.486818],\n",
       "       [25.105095],\n",
       "       [21.656   ],\n",
       "       [23.366562],\n",
       "       [23.893047],\n",
       "       [37.68934 ],\n",
       "       [13.075663],\n",
       "       [22.410603],\n",
       "       [41.262825],\n",
       "       [20.03372 ],\n",
       "       [17.176804],\n",
       "       [22.404095],\n",
       "       [19.403023],\n",
       "       [20.523266],\n",
       "       [21.30436 ],\n",
       "       [23.721615],\n",
       "       [37.52248 ],\n",
       "       [19.733585],\n",
       "       [23.46988 ],\n",
       "       [22.990068],\n",
       "       [29.615524],\n",
       "       [38.18324 ],\n",
       "       [20.517712],\n",
       "       [41.10894 ],\n",
       "       [51.21684 ],\n",
       "       [25.474052],\n",
       "       [58.165623],\n",
       "       [29.631712],\n",
       "       [19.510073]], dtype=float32)"
      ]
     },
     "execution_count": 38,
     "metadata": {},
     "output_type": "execute_result"
    }
   ],
   "source": [
    "y_pred"
   ]
  },
  {
   "cell_type": "code",
   "execution_count": 39,
   "id": "1eac85b0",
   "metadata": {},
   "outputs": [
    {
     "data": {
      "text/plain": [
       "array([ 7.2, 18.8, 19. , 27. , 22.2, 24.5, 31.2, 22.9, 20.5, 23.2, 18.6,\n",
       "       14.5, 17.8, 50. , 20.8, 24.3, 24.2, 19.8, 19.1, 22.7, 12. , 10.2,\n",
       "       20. , 18.5, 20.9, 23. , 27.5, 30.1,  9.5, 22. , 21.2, 14.1, 33.1,\n",
       "       23.4, 20.1,  7.4, 15.4, 23.8, 20.1, 24.5, 33. , 28.4, 14.1, 46.7,\n",
       "       32.5, 29.6, 28.4, 19.8, 20.2, 25. , 35.4, 20.3,  9.7, 14.5, 34.9,\n",
       "       26.6,  7.2, 50. , 32.4, 21.6, 29.8, 13.1, 27.5, 21.2, 23.1, 21.9,\n",
       "       13. , 23.2,  8.1,  5.6, 21.7, 29.6, 19.6,  7. , 26.4, 18.9, 20.9,\n",
       "       28.1, 35.4, 10.2, 24.3, 43.1, 17.6, 15.4, 16.2, 27.1, 21.4, 21.5,\n",
       "       22.4, 25. , 16.6, 18.6, 22. , 42.8, 35.1, 21.5, 36. , 21.9, 24.1,\n",
       "       50. , 26.7, 25. ])"
      ]
     },
     "execution_count": 39,
     "metadata": {},
     "output_type": "execute_result"
    }
   ],
   "source": [
    "y_test"
   ]
  },
  {
   "cell_type": "code",
   "execution_count": 37,
   "id": "e96cc120",
   "metadata": {},
   "outputs": [
    {
     "ename": "ValueError",
     "evalue": "continuous is not supported",
     "output_type": "error",
     "traceback": [
      "\u001b[1;31m---------------------------------------------------------------------------\u001b[0m",
      "\u001b[1;31mValueError\u001b[0m                                Traceback (most recent call last)",
      "\u001b[1;32m~\\AppData\\Local\\Temp/ipykernel_7644/3104149303.py\u001b[0m in \u001b[0;36m<module>\u001b[1;34m\u001b[0m\n\u001b[0;32m      1\u001b[0m \u001b[1;32mfrom\u001b[0m \u001b[0msklearn\u001b[0m\u001b[1;33m.\u001b[0m\u001b[0mmetrics\u001b[0m \u001b[1;32mimport\u001b[0m \u001b[0maccuracy_score\u001b[0m\u001b[1;33m\u001b[0m\u001b[1;33m\u001b[0m\u001b[0m\n\u001b[1;32m----> 2\u001b[1;33m \u001b[0maccuracy_score\u001b[0m\u001b[1;33m(\u001b[0m\u001b[0my_test\u001b[0m\u001b[1;33m,\u001b[0m\u001b[0my_pred\u001b[0m\u001b[1;33m)\u001b[0m\u001b[1;33m\u001b[0m\u001b[1;33m\u001b[0m\u001b[0m\n\u001b[0m",
      "\u001b[1;32m~\\anaconda31\\lib\\site-packages\\sklearn\\metrics\\_classification.py\u001b[0m in \u001b[0;36maccuracy_score\u001b[1;34m(y_true, y_pred, normalize, sample_weight)\u001b[0m\n\u001b[0;32m    209\u001b[0m \u001b[1;33m\u001b[0m\u001b[0m\n\u001b[0;32m    210\u001b[0m     \u001b[1;31m# Compute accuracy for each possible representation\u001b[0m\u001b[1;33m\u001b[0m\u001b[1;33m\u001b[0m\u001b[0m\n\u001b[1;32m--> 211\u001b[1;33m     \u001b[0my_type\u001b[0m\u001b[1;33m,\u001b[0m \u001b[0my_true\u001b[0m\u001b[1;33m,\u001b[0m \u001b[0my_pred\u001b[0m \u001b[1;33m=\u001b[0m \u001b[0m_check_targets\u001b[0m\u001b[1;33m(\u001b[0m\u001b[0my_true\u001b[0m\u001b[1;33m,\u001b[0m \u001b[0my_pred\u001b[0m\u001b[1;33m)\u001b[0m\u001b[1;33m\u001b[0m\u001b[1;33m\u001b[0m\u001b[0m\n\u001b[0m\u001b[0;32m    212\u001b[0m     \u001b[0mcheck_consistent_length\u001b[0m\u001b[1;33m(\u001b[0m\u001b[0my_true\u001b[0m\u001b[1;33m,\u001b[0m \u001b[0my_pred\u001b[0m\u001b[1;33m,\u001b[0m \u001b[0msample_weight\u001b[0m\u001b[1;33m)\u001b[0m\u001b[1;33m\u001b[0m\u001b[1;33m\u001b[0m\u001b[0m\n\u001b[0;32m    213\u001b[0m     \u001b[1;32mif\u001b[0m \u001b[0my_type\u001b[0m\u001b[1;33m.\u001b[0m\u001b[0mstartswith\u001b[0m\u001b[1;33m(\u001b[0m\u001b[1;34m\"multilabel\"\u001b[0m\u001b[1;33m)\u001b[0m\u001b[1;33m:\u001b[0m\u001b[1;33m\u001b[0m\u001b[1;33m\u001b[0m\u001b[0m\n",
      "\u001b[1;32m~\\anaconda31\\lib\\site-packages\\sklearn\\metrics\\_classification.py\u001b[0m in \u001b[0;36m_check_targets\u001b[1;34m(y_true, y_pred)\u001b[0m\n\u001b[0;32m    102\u001b[0m     \u001b[1;31m# No metrics support \"multiclass-multioutput\" format\u001b[0m\u001b[1;33m\u001b[0m\u001b[1;33m\u001b[0m\u001b[0m\n\u001b[0;32m    103\u001b[0m     \u001b[1;32mif\u001b[0m \u001b[0my_type\u001b[0m \u001b[1;32mnot\u001b[0m \u001b[1;32min\u001b[0m \u001b[1;33m[\u001b[0m\u001b[1;34m\"binary\"\u001b[0m\u001b[1;33m,\u001b[0m \u001b[1;34m\"multiclass\"\u001b[0m\u001b[1;33m,\u001b[0m \u001b[1;34m\"multilabel-indicator\"\u001b[0m\u001b[1;33m]\u001b[0m\u001b[1;33m:\u001b[0m\u001b[1;33m\u001b[0m\u001b[1;33m\u001b[0m\u001b[0m\n\u001b[1;32m--> 104\u001b[1;33m         \u001b[1;32mraise\u001b[0m \u001b[0mValueError\u001b[0m\u001b[1;33m(\u001b[0m\u001b[1;34m\"{0} is not supported\"\u001b[0m\u001b[1;33m.\u001b[0m\u001b[0mformat\u001b[0m\u001b[1;33m(\u001b[0m\u001b[0my_type\u001b[0m\u001b[1;33m)\u001b[0m\u001b[1;33m)\u001b[0m\u001b[1;33m\u001b[0m\u001b[1;33m\u001b[0m\u001b[0m\n\u001b[0m\u001b[0;32m    105\u001b[0m \u001b[1;33m\u001b[0m\u001b[0m\n\u001b[0;32m    106\u001b[0m     \u001b[1;32mif\u001b[0m \u001b[0my_type\u001b[0m \u001b[1;32min\u001b[0m \u001b[1;33m[\u001b[0m\u001b[1;34m\"binary\"\u001b[0m\u001b[1;33m,\u001b[0m \u001b[1;34m\"multiclass\"\u001b[0m\u001b[1;33m]\u001b[0m\u001b[1;33m:\u001b[0m\u001b[1;33m\u001b[0m\u001b[1;33m\u001b[0m\u001b[0m\n",
      "\u001b[1;31mValueError\u001b[0m: continuous is not supported"
     ]
    }
   ],
   "source": [
    "from sklearn.metrics import accuracy_score\n",
    "accuracy_score(y_test,y_pred)"
   ]
  }
 ],
 "metadata": {
  "kernelspec": {
   "display_name": "Python 3 (ipykernel)",
   "language": "python",
   "name": "python3"
  },
  "language_info": {
   "codemirror_mode": {
    "name": "ipython",
    "version": 3
   },
   "file_extension": ".py",
   "mimetype": "text/x-python",
   "name": "python",
   "nbconvert_exporter": "python",
   "pygments_lexer": "ipython3",
   "version": "3.9.7"
  }
 },
 "nbformat": 4,
 "nbformat_minor": 5
}
